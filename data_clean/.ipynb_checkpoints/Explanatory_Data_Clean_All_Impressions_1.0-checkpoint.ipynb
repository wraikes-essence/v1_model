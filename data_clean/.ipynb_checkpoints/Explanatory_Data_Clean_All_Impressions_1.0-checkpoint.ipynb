{
 "cells": [
  {
   "cell_type": "markdown",
   "metadata": {},
   "source": [
    "## Description: Predictive Model, All Impressions\n",
    "Each record is a unique user and campaign combination. Use only the first survey response per user & campaign.  And remove all impressions afterwards.  Convert the remaining impressions into separate columns with one cut per column, and the value signifying the frequency.\n",
    "\n",
    "- Site/Channel/Device/Medium\n",
    "- Baseline (Need to revisit this, basic comp)\n",
    "- Month/Year/Weekday/Daytime\n",
    "- Creative Size\n",
    "- Recency\n",
    "- Cum Sum of Weekly Impression Viewings\n",
    "\n",
    "\n",
    "Notes:\n",
    "- Product differences.\n",
    "- Side by side comparisons of weighted vs. non-weighted data\n",
    "- Frequency is very important."
   ]
  },
  {
   "cell_type": "markdown",
   "metadata": {},
   "source": [
    "Note: Need to correct the differences in sites, such as GDN vs. Google Display Network."
   ]
  },
  {
   "cell_type": "code",
   "execution_count": 341,
   "metadata": {},
   "outputs": [],
   "source": [
    "import pandas as pd, numpy as np, os \n",
    "from datetime import timedelta, datetime\n",
    "from functools import reduce\n",
    "pd.set_option('display.max_columns', 500)\n",
    "pd.set_option('display.max_rows', 500)\n",
    "import matplotlib.pyplot as plt\n",
    "%matplotlib inline"
   ]
  },
  {
   "cell_type": "markdown",
   "metadata": {},
   "source": [
    "### Data Cleaning"
   ]
  },
  {
   "cell_type": "code",
   "execution_count": 342,
   "metadata": {
    "scrolled": false
   },
   "outputs": [],
   "source": [
    "df = pd.read_csv(r'C:\\Users\\william.raikes\\Programming\\Python\\abacus\\v1_model\\data\\raw\\chromebook.csv')"
   ]
  },
  {
   "cell_type": "code",
   "execution_count": 343,
   "metadata": {},
   "outputs": [],
   "source": [
    "def freq_counts(df, label):\n",
    "    new_df = df.groupby(['user_id', 'campaign_id', label]).size().unstack().reset_index().fillna(0)  \n",
    "    new_df.columns = [label+'_'+str(x) if x != 'user_id' and x != 'campaign_id' else x for x in new_df.columns]\n",
    "    \n",
    "    return new_df"
   ]
  },
  {
   "cell_type": "code",
   "execution_count": 344,
   "metadata": {},
   "outputs": [],
   "source": [
    "def get_sample(df, start, end):\n",
    "    tmp = df[\n",
    "        (df.grp == 'CON') &\n",
    "        (df.date >= start) &\n",
    "        (df.date <= end)\n",
    "    ]\n",
    "    \n",
    "    return tmp.shape[0]"
   ]
  },
  {
   "cell_type": "code",
   "execution_count": 345,
   "metadata": {},
   "outputs": [],
   "source": [
    "def get_rate(df, start, end):\n",
    "    tmp = df[\n",
    "        (df.grp == 'CON') &\n",
    "        (df.date >= start) &\n",
    "        (df.date <= end)\n",
    "    ].answer_desired_Aided_awareness\n",
    "    \n",
    "    return tmp.mean()"
   ]
  },
  {
   "cell_type": "code",
   "execution_count": 346,
   "metadata": {},
   "outputs": [],
   "source": [
    "def update_baseline(group, df, sample, count):\n",
    "    _days = 7 * count\n",
    "    base = group.copy()\n",
    "    \n",
    "    for idx in group[group.baseline_n < sample].index:\n",
    "        date = pd.to_datetime(group.loc[idx, 'baseline_month'])\n",
    "        start = date - pd.DateOffset(days=_days)\n",
    "        end = date + pd.DateOffset(months=1, days=_days)\n",
    "\n",
    "        new_n = get_sample(df, start, end)\n",
    "        new_rate = get_rate(df, start, end)\n",
    "\n",
    "        base.loc[idx, 'baseline_n'] = new_n\n",
    "        base.loc[idx, 'baseline'] = new_rate\n",
    "        \n",
    "    return base"
   ]
  },
  {
   "cell_type": "code",
   "execution_count": 347,
   "metadata": {},
   "outputs": [],
   "source": [
    "def run_updates(base, sample):\n",
    "    count = 1\n",
    "\n",
    "    while any(base.baseline_n < sample):\n",
    "        base = update_baseline(base, df, sample, count)\n",
    "        count += 1\n",
    "    \n",
    "    return base"
   ]
  },
  {
   "cell_type": "code",
   "execution_count": 348,
   "metadata": {},
   "outputs": [],
   "source": [
    "# Dates\n",
    "df['date'] = pd.to_datetime(df.date)\n",
    "\n",
    "df['survey_date'] = pd.to_datetime(df.Created_Aided_awareness_date)\n",
    "df['recency'] = (df['survey_date'] - df['date']).dt.days\n",
    "\n",
    "df['current_month'] = df.date.dt.to_period('M')\n",
    "df['year'] = df['date'].dt.year\n",
    "df['weekday'] = df['date'].dt.weekday\n",
    "df['hour'] = df['date'].dt.hour\n",
    "df['month'] = df['date'].dt.month\n",
    "df['day_time'] = np.where((df.hour >= 6) & (df.hour < 12), 'AM',                                   #6am-11am\n",
    "                    np.where((df.hour >= 12) & (df.hour < 18), 'Noon',                             #12pm-5pm\n",
    "                        np.where((df.hour >= 18) & (df.hour < 23), 'PM',                           #6pm-10pm\n",
    "                            np.where((df.hour >= 23) | (df.hour < 6), 'Late Night', np.nan))))     #11pm-5am"
   ]
  },
  {
   "cell_type": "code",
   "execution_count": 349,
   "metadata": {},
   "outputs": [],
   "source": [
    "df['vid_size'] = df.dcm_ad.str.extract(r'(:[\\d\\d]{1,2}|[\\d\\d]{1,2}s)')[0].str.replace('s|:', '')\n",
    "df['creative_size'] = np.where(df.creative_pixel_size == '0x0', \n",
    "                               df.vid_size, \n",
    "                               df.creative_pixel_size)"
   ]
  },
  {
   "cell_type": "code",
   "execution_count": 350,
   "metadata": {},
   "outputs": [],
   "source": [
    "df['start_date'] = np.where(df.campaign_id==20334613, df[df.campaign_id==20334613].date.min(),\n",
    "                       np.where(df.campaign_id==20570795, df[df.campaign_id==20570795].date.min(),\n",
    "                           np.where(df.campaign_id==20920617, df[df.campaign_id==20920617].date.min(), np.nan)))"
   ]
  },
  {
   "cell_type": "code",
   "execution_count": 351,
   "metadata": {},
   "outputs": [],
   "source": [
    "df['weeks_elapsed'] = ((df.date - df.start_date).dt.days // 7).round()"
   ]
  },
  {
   "cell_type": "code",
   "execution_count": 352,
   "metadata": {},
   "outputs": [],
   "source": [
    "df['rolling_imps'] = 1\n",
    "imps = df.sort_values('date').set_index('date').groupby(['user_id','campaign_id'])['rolling_imps'].rolling('7D').sum().reset_index()\n",
    "df.drop(columns='rolling_imps', inplace=True)\n",
    "df = pd.merge(df, imps, how='left', on=['user_id', 'campaign_id', 'date'])"
   ]
  },
  {
   "cell_type": "code",
   "execution_count": 353,
   "metadata": {},
   "outputs": [],
   "source": [
    "base_sample = df.groupby('current_month').size().reset_index()\n",
    "base_sample.columns = ['baseline_month', 'baseline_n']\n",
    "\n",
    "base = df.groupby('current_month').mean().answer_desired_Aided_awareness.reset_index()\n",
    "base.columns = ['baseline_month', 'baseline']\n",
    "\n",
    "base = pd.merge(base, base_sample, on='baseline_month')\n",
    "base.baseline_month = base.baseline_month.astype(str)\n",
    "\n",
    "base.index = base.baseline_month\n",
    "idx = pd.period_range(base.baseline_month.min(), base.baseline_month.max(), freq='M')\n",
    "base = base.reindex(idx.astype(str), fill_value=0)\n",
    "base.baseline_month = base.index\n",
    "base.index = range(base.shape[0])\n",
    "\n",
    "base = run_updates(base, 200)\n",
    "base.columns = ['current_month', 'baseline', 'baseline_n']"
   ]
  },
  {
   "cell_type": "code",
   "execution_count": 354,
   "metadata": {},
   "outputs": [],
   "source": [
    "df.current_month = df.current_month.astype(str)\n",
    "df = pd.merge(df, base, how='left', on='current_month')"
   ]
  },
  {
   "cell_type": "code",
   "execution_count": 355,
   "metadata": {},
   "outputs": [],
   "source": [
    "df.rolling_imps = np.where(df.rolling_imps >= 8, '8 plus', df.rolling_imps)\n",
    "df.recency = np.where(df.recency >= 8, '8 plus', df.recency)"
   ]
  },
  {
   "cell_type": "code",
   "execution_count": 322,
   "metadata": {},
   "outputs": [],
   "source": [
    "answer = df.groupby(['user_id', 'campaign_id'])['answer_desired_Aided_awareness'].max().reset_index()\n",
    "grp = df.groupby(['user_id', 'campaign_id'])['grp'].first().reset_index()\n",
    "frequency = df.groupby(['user_id', 'campaign_id'])['frequency'].first().reset_index()\n",
    "baseline = df.sort_values(by=['user_id', 'campaign_id', 'date']).groupby(['user_id', 'campaign_id'])['baseline'].first().reset_index()"
   ]
  },
  {
   "cell_type": "code",
   "execution_count": 323,
   "metadata": {},
   "outputs": [],
   "source": [
    "channel_name = freq_counts(df, 'channel_name')\n",
    "device_name = freq_counts(df, 'device_name')\n",
    "medium_name = freq_counts(df, 'medium_name')\n",
    "prst = freq_counts(df, 'prst')\n",
    "rolling_imps = freq_counts(df, 'rolling_imps')\n",
    "weeks = freq_counts(df, 'weeks_elapsed')\n",
    "day_time = freq_counts(df, 'day_time')\n",
    "creative_size = freq_counts(df, 'creative_size')\n",
    "recency = freq_counts(df, 'recency')"
   ]
  },
  {
   "cell_type": "code",
   "execution_count": 324,
   "metadata": {},
   "outputs": [],
   "source": [
    "dfs = [\n",
    "    answer,\n",
    "    grp,\n",
    "    frequency,\n",
    "    baseline,\n",
    "    channel_name,\n",
    "    device_name,\n",
    "    medium_name,\n",
    "    prst,\n",
    "    rolling_imps,\n",
    "    weeks,\n",
    "    day_time,\n",
    "    creative_size,\n",
    "    recency\n",
    "]\n",
    "\n",
    "df_final = reduce(lambda left, right: pd.merge(left, right, how = 'inner', on=['user_id', 'campaign_id']), dfs)\n",
    "df_final = pd.get_dummies(df_final, columns=['grp'])\n",
    "df_final['total'] = df_final['channel_name_Display'] + df_final['channel_name_Video']"
   ]
  },
  {
   "cell_type": "code",
   "execution_count": 325,
   "metadata": {},
   "outputs": [],
   "source": [
    "df_final.drop(columns=['user_id', 'campaign_id', 'grp_CON'], inplace=True)"
   ]
  },
  {
   "cell_type": "code",
   "execution_count": 326,
   "metadata": {},
   "outputs": [],
   "source": [
    "cols = []\n",
    "for col in df_final.columns:\n",
    "    new_col = ''\n",
    "    if ' ' in col:\n",
    "        new_col = col.replace(' ', '_')\n",
    "        cols.append(new_col)\n",
    "    else:\n",
    "        cols.append(col)\n",
    "\n",
    "df_final.columns = cols"
   ]
  },
  {
   "cell_type": "markdown",
   "metadata": {},
   "source": [
    "#### This file is the base file; to be used to tree models."
   ]
  },
  {
   "cell_type": "code",
   "execution_count": 327,
   "metadata": {},
   "outputs": [],
   "source": [
    "df_final.to_csv(r'C:\\Users\\william.raikes\\Programming\\Python\\abacus\\v1_model\\data\\clean\\explanatory\\chromebook_all_imps_wo_ints.csv', index=False)"
   ]
  },
  {
   "cell_type": "code",
   "execution_count": 335,
   "metadata": {},
   "outputs": [],
   "source": [
    "cols = [\n",
    "    'channel_name_Display',\n",
    "    'device_name_Desktop',\n",
    "    'medium_name_Web',\n",
    "    'prst_OPEN_EXCHANGE_ADX',\n",
    "    'rolling_imps_8_plus',\n",
    "    'day_time_AM',\n",
    "    'creative_size_30',\n",
    "    'recency_8_plus',\n",
    "    'weeks_elapsed_0',\n",
    "    'total',\n",
    "    'creative_size_300x250',\n",
    "    'prst_YOUTUBE'\n",
    "]\n",
    "\n",
    "df_clean = df_final.drop(columns=cols)"
   ]
  },
  {
   "cell_type": "markdown",
   "metadata": {},
   "source": [
    "#### This file removes the collinear features."
   ]
  },
  {
   "cell_type": "code",
   "execution_count": 336,
   "metadata": {},
   "outputs": [],
   "source": [
    "df_clean.to_csv(r'C:\\Users\\william.raikes\\Programming\\Python\\abacus\\v1_model\\data\\clean\\explanatory\\chromebook_all_imps_wo_ints.csv', index=False)"
   ]
  },
  {
   "cell_type": "code",
   "execution_count": 337,
   "metadata": {},
   "outputs": [],
   "source": [
    "#df_clean = df_final.copy()\n",
    "cols = [x for x in df_clean.columns if any([y in x for y in ['baseline', 'prst', 'channel', 'medium', 'device', \n",
    "                                                             'rolling', 'year', 'month', 'day_time',\n",
    "                                                             'creative', 'recency', 'total', 'frequency', 'elapsed']])]\n",
    "\n",
    "for col in cols:\n",
    "    df_clean[col+'_int'] = df_clean[col] * df_clean['grp_EXP']"
   ]
  },
  {
   "cell_type": "markdown",
   "metadata": {},
   "source": [
    "#### This file includes the interaction terms for all features; used for full model builds."
   ]
  },
  {
   "cell_type": "code",
   "execution_count": 338,
   "metadata": {},
   "outputs": [],
   "source": [
    "df_clean.to_csv(r'C:\\Users\\william.raikes\\Programming\\Python\\abacus\\v1_model\\data\\clean\\explanatory\\chromebook_all_imps_w_ints.csv', index=False)"
   ]
  },
  {
   "cell_type": "code",
   "execution_count": 339,
   "metadata": {},
   "outputs": [],
   "source": [
    "cols = [x for x in df_clean.columns if '_int' in x or 'desired' in x or 'grp_EXP' in x]\n",
    "\n",
    "df_int_only = df_clean[\n",
    "    cols\n",
    "]"
   ]
  },
  {
   "cell_type": "markdown",
   "metadata": {},
   "source": [
    "#### This file includes only the interaction terms; used for partial stepwise model builds."
   ]
  },
  {
   "cell_type": "code",
   "execution_count": 340,
   "metadata": {},
   "outputs": [],
   "source": [
    "df_int_only.to_csv(r'C:\\Users\\william.raikes\\Programming\\Python\\abacus\\v1_model\\data\\clean\\explanatory\\chromebook_all_imps_ints_only.csv', index=False)"
   ]
  },
  {
   "cell_type": "code",
   "execution_count": null,
   "metadata": {},
   "outputs": [],
   "source": []
  },
  {
   "cell_type": "code",
   "execution_count": null,
   "metadata": {},
   "outputs": [],
   "source": []
  },
  {
   "cell_type": "code",
   "execution_count": null,
   "metadata": {},
   "outputs": [],
   "source": []
  },
  {
   "cell_type": "code",
   "execution_count": null,
   "metadata": {},
   "outputs": [],
   "source": []
  },
  {
   "cell_type": "code",
   "execution_count": null,
   "metadata": {},
   "outputs": [],
   "source": []
  },
  {
   "cell_type": "code",
   "execution_count": null,
   "metadata": {},
   "outputs": [],
   "source": []
  },
  {
   "cell_type": "code",
   "execution_count": null,
   "metadata": {},
   "outputs": [],
   "source": []
  },
  {
   "cell_type": "code",
   "execution_count": null,
   "metadata": {},
   "outputs": [],
   "source": []
  },
  {
   "cell_type": "code",
   "execution_count": null,
   "metadata": {},
   "outputs": [],
   "source": []
  },
  {
   "cell_type": "code",
   "execution_count": null,
   "metadata": {},
   "outputs": [],
   "source": []
  },
  {
   "cell_type": "code",
   "execution_count": 356,
   "metadata": {
    "scrolled": false
   },
   "outputs": [
    {
     "data": {
      "text/html": [
       "<div>\n",
       "<style scoped>\n",
       "    .dataframe tbody tr th:only-of-type {\n",
       "        vertical-align: middle;\n",
       "    }\n",
       "\n",
       "    .dataframe tbody tr th {\n",
       "        vertical-align: top;\n",
       "    }\n",
       "\n",
       "    .dataframe thead th {\n",
       "        text-align: right;\n",
       "    }\n",
       "</style>\n",
       "<table border=\"1\" class=\"dataframe\">\n",
       "  <thead>\n",
       "    <tr style=\"text-align: right;\">\n",
       "      <th></th>\n",
       "      <th>mean</th>\n",
       "      <th>size</th>\n",
       "    </tr>\n",
       "    <tr>\n",
       "      <th>weeks_elapsed</th>\n",
       "      <th></th>\n",
       "      <th></th>\n",
       "    </tr>\n",
       "  </thead>\n",
       "  <tbody>\n",
       "    <tr>\n",
       "      <th>0</th>\n",
       "      <td>0.475822</td>\n",
       "      <td>517</td>\n",
       "    </tr>\n",
       "    <tr>\n",
       "      <th>1</th>\n",
       "      <td>0.551364</td>\n",
       "      <td>1246</td>\n",
       "    </tr>\n",
       "    <tr>\n",
       "      <th>2</th>\n",
       "      <td>0.597954</td>\n",
       "      <td>1271</td>\n",
       "    </tr>\n",
       "    <tr>\n",
       "      <th>3</th>\n",
       "      <td>0.637568</td>\n",
       "      <td>1661</td>\n",
       "    </tr>\n",
       "    <tr>\n",
       "      <th>4</th>\n",
       "      <td>0.574599</td>\n",
       "      <td>811</td>\n",
       "    </tr>\n",
       "    <tr>\n",
       "      <th>5</th>\n",
       "      <td>0.625922</td>\n",
       "      <td>2847</td>\n",
       "    </tr>\n",
       "    <tr>\n",
       "      <th>6</th>\n",
       "      <td>0.604907</td>\n",
       "      <td>4280</td>\n",
       "    </tr>\n",
       "    <tr>\n",
       "      <th>7</th>\n",
       "      <td>0.524983</td>\n",
       "      <td>2922</td>\n",
       "    </tr>\n",
       "    <tr>\n",
       "      <th>8</th>\n",
       "      <td>0.533679</td>\n",
       "      <td>1930</td>\n",
       "    </tr>\n",
       "    <tr>\n",
       "      <th>9</th>\n",
       "      <td>0.546535</td>\n",
       "      <td>1515</td>\n",
       "    </tr>\n",
       "    <tr>\n",
       "      <th>10</th>\n",
       "      <td>0.591928</td>\n",
       "      <td>1115</td>\n",
       "    </tr>\n",
       "    <tr>\n",
       "      <th>11</th>\n",
       "      <td>0.573443</td>\n",
       "      <td>851</td>\n",
       "    </tr>\n",
       "    <tr>\n",
       "      <th>12</th>\n",
       "      <td>0.713643</td>\n",
       "      <td>667</td>\n",
       "    </tr>\n",
       "  </tbody>\n",
       "</table>\n",
       "</div>"
      ],
      "text/plain": [
       "                   mean  size\n",
       "weeks_elapsed                \n",
       "0              0.475822   517\n",
       "1              0.551364  1246\n",
       "2              0.597954  1271\n",
       "3              0.637568  1661\n",
       "4              0.574599   811\n",
       "5              0.625922  2847\n",
       "6              0.604907  4280\n",
       "7              0.524983  2922\n",
       "8              0.533679  1930\n",
       "9              0.546535  1515\n",
       "10             0.591928  1115\n",
       "11             0.573443   851\n",
       "12             0.713643   667"
      ]
     },
     "execution_count": 356,
     "metadata": {},
     "output_type": "execute_result"
    }
   ],
   "source": [
    "df[df.grp == 'EXP'].groupby('weeks_elapsed').answer_desired_Aided_awareness.agg(['mean', 'size'])"
   ]
  },
  {
   "cell_type": "code",
   "execution_count": 243,
   "metadata": {
    "scrolled": true
   },
   "outputs": [
    {
     "data": {
      "text/html": [
       "<div>\n",
       "<style scoped>\n",
       "    .dataframe tbody tr th:only-of-type {\n",
       "        vertical-align: middle;\n",
       "    }\n",
       "\n",
       "    .dataframe tbody tr th {\n",
       "        vertical-align: top;\n",
       "    }\n",
       "\n",
       "    .dataframe thead th {\n",
       "        text-align: right;\n",
       "    }\n",
       "</style>\n",
       "<table border=\"1\" class=\"dataframe\">\n",
       "  <thead>\n",
       "    <tr style=\"text-align: right;\">\n",
       "      <th></th>\n",
       "      <th>mean</th>\n",
       "      <th>size</th>\n",
       "    </tr>\n",
       "    <tr>\n",
       "      <th>rolling_imps</th>\n",
       "      <th></th>\n",
       "      <th></th>\n",
       "    </tr>\n",
       "  </thead>\n",
       "  <tbody>\n",
       "    <tr>\n",
       "      <th>1.0</th>\n",
       "      <td>0.591741</td>\n",
       "      <td>6175</td>\n",
       "    </tr>\n",
       "    <tr>\n",
       "      <th>2.0</th>\n",
       "      <td>0.583510</td>\n",
       "      <td>3784</td>\n",
       "    </tr>\n",
       "    <tr>\n",
       "      <th>3.0</th>\n",
       "      <td>0.584390</td>\n",
       "      <td>2524</td>\n",
       "    </tr>\n",
       "    <tr>\n",
       "      <th>4.0</th>\n",
       "      <td>0.572387</td>\n",
       "      <td>1789</td>\n",
       "    </tr>\n",
       "    <tr>\n",
       "      <th>5.0</th>\n",
       "      <td>0.575507</td>\n",
       "      <td>1331</td>\n",
       "    </tr>\n",
       "    <tr>\n",
       "      <th>6.0</th>\n",
       "      <td>0.573880</td>\n",
       "      <td>1049</td>\n",
       "    </tr>\n",
       "    <tr>\n",
       "      <th>7.0</th>\n",
       "      <td>0.580882</td>\n",
       "      <td>816</td>\n",
       "    </tr>\n",
       "    <tr>\n",
       "      <th>8 plus</th>\n",
       "      <td>0.576711</td>\n",
       "      <td>4165</td>\n",
       "    </tr>\n",
       "  </tbody>\n",
       "</table>\n",
       "</div>"
      ],
      "text/plain": [
       "                  mean  size\n",
       "rolling_imps                \n",
       "1.0           0.591741  6175\n",
       "2.0           0.583510  3784\n",
       "3.0           0.584390  2524\n",
       "4.0           0.572387  1789\n",
       "5.0           0.575507  1331\n",
       "6.0           0.573880  1049\n",
       "7.0           0.580882   816\n",
       "8 plus        0.576711  4165"
      ]
     },
     "execution_count": 243,
     "metadata": {},
     "output_type": "execute_result"
    }
   ],
   "source": [
    "df[df.grp == 'EXP'].groupby('rolling_imps').answer_desired_Aided_awareness.agg(['mean', 'size'])"
   ]
  },
  {
   "cell_type": "code",
   "execution_count": 246,
   "metadata": {},
   "outputs": [
    {
     "data": {
      "text/html": [
       "<div>\n",
       "<style scoped>\n",
       "    .dataframe tbody tr th:only-of-type {\n",
       "        vertical-align: middle;\n",
       "    }\n",
       "\n",
       "    .dataframe tbody tr th {\n",
       "        vertical-align: top;\n",
       "    }\n",
       "\n",
       "    .dataframe thead th {\n",
       "        text-align: right;\n",
       "    }\n",
       "</style>\n",
       "<table border=\"1\" class=\"dataframe\">\n",
       "  <thead>\n",
       "    <tr style=\"text-align: right;\">\n",
       "      <th></th>\n",
       "      <th></th>\n",
       "      <th>mean</th>\n",
       "      <th>size</th>\n",
       "    </tr>\n",
       "    <tr>\n",
       "      <th>year</th>\n",
       "      <th>month</th>\n",
       "      <th></th>\n",
       "      <th></th>\n",
       "    </tr>\n",
       "  </thead>\n",
       "  <tbody>\n",
       "    <tr>\n",
       "      <th rowspan=\"3\" valign=\"top\">2017</th>\n",
       "      <th>10</th>\n",
       "      <td>0.490270</td>\n",
       "      <td>3443</td>\n",
       "    </tr>\n",
       "    <tr>\n",
       "      <th>11</th>\n",
       "      <td>0.535844</td>\n",
       "      <td>16488</td>\n",
       "    </tr>\n",
       "    <tr>\n",
       "      <th>12</th>\n",
       "      <td>0.574086</td>\n",
       "      <td>9084</td>\n",
       "    </tr>\n",
       "    <tr>\n",
       "      <th rowspan=\"5\" valign=\"top\">2018</th>\n",
       "      <th>1</th>\n",
       "      <td>0.526000</td>\n",
       "      <td>500</td>\n",
       "    </tr>\n",
       "    <tr>\n",
       "      <th>2</th>\n",
       "      <td>0.700884</td>\n",
       "      <td>5884</td>\n",
       "    </tr>\n",
       "    <tr>\n",
       "      <th>3</th>\n",
       "      <td>0.687625</td>\n",
       "      <td>1495</td>\n",
       "    </tr>\n",
       "    <tr>\n",
       "      <th>5</th>\n",
       "      <td>0.629213</td>\n",
       "      <td>623</td>\n",
       "    </tr>\n",
       "    <tr>\n",
       "      <th>6</th>\n",
       "      <td>0.604588</td>\n",
       "      <td>5885</td>\n",
       "    </tr>\n",
       "  </tbody>\n",
       "</table>\n",
       "</div>"
      ],
      "text/plain": [
       "                mean   size\n",
       "year month                 \n",
       "2017 10     0.490270   3443\n",
       "     11     0.535844  16488\n",
       "     12     0.574086   9084\n",
       "2018 1      0.526000    500\n",
       "     2      0.700884   5884\n",
       "     3      0.687625   1495\n",
       "     5      0.629213    623\n",
       "     6      0.604588   5885"
      ]
     },
     "execution_count": 246,
     "metadata": {},
     "output_type": "execute_result"
    }
   ],
   "source": [
    "df.groupby(['year', 'month']).baseline.agg(['mean', 'size'])"
   ]
  }
 ],
 "metadata": {
  "kernelspec": {
   "display_name": "Python 3",
   "language": "python",
   "name": "python3"
  },
  "language_info": {
   "codemirror_mode": {
    "name": "ipython",
    "version": 3
   },
   "file_extension": ".py",
   "mimetype": "text/x-python",
   "name": "python",
   "nbconvert_exporter": "python",
   "pygments_lexer": "ipython3",
   "version": "3.6.4"
  }
 },
 "nbformat": 4,
 "nbformat_minor": 2
}
